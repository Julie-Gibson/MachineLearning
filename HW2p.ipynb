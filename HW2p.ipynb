{
 "cells": [
  {
   "cell_type": "code",
   "execution_count": 83,
   "source": [
    "import numpy as np\n",
    "import matplotlib.pyplot as plt\n",
    "import math\n",
    "from scipy.special import expit\n",
    "import time"
   ],
   "outputs": [],
   "metadata": {
    "colab": {},
    "colab_type": "code",
    "id": "1Rg2uSiFSRJe"
   }
  },
  {
   "cell_type": "markdown",
   "source": [
    "# Problem 1\n",
    "## Dataset Generation"
   ],
   "metadata": {
    "colab_type": "text",
    "id": "oDTSO7-MSRJj"
   }
  },
  {
   "cell_type": "markdown",
   "source": [
    "Write a function to **generate a training set** of size $m$\n",
    "- randomly generate a weight vector $w \\in \\mathbb{R}^{10}$, normalize length\n",
    "- generate a training set $\\{(x_i , y_i)\\}$ of size m\n",
    "  - $x_i$: random vector in $\\mathbb{R}^{10}$ from $\\textbf{N}(0, I)$\n",
    "  - $y_i$: $\\{0, +1\\}$ with $P[y = +1] = \\sigma(w \\cdot x_i)$ and $P[y = 0] = 1 - \\sigma(w \\cdot x_i)$"
   ],
   "metadata": {
    "colab_type": "text",
    "id": "Tx7KW28cSRJk"
   }
  },
  {
   "cell_type": "code",
   "execution_count": 84,
   "source": [
    "TIME = False\n",
    "\n",
    "def generate_vector(normalize=False):\n",
    "    v = np.random.randn(10)\n",
    "    if normalize:\n",
    "        sum = 0\n",
    "        for i in v:\n",
    "            sum += i * i \n",
    "        norm = math.sqrt(sum)\n",
    "        v = [i*1/norm for i in v]\n",
    "    return v\n",
    "\n",
    "def generate_label(x_i,w):\n",
    "    s = expit(np.dot(w,x_i))\n",
    "    X = np.random.uniform(low=0,high=1)\n",
    "    y_i = 0\n",
    "    if X <= s:\n",
    "        y_i = 1\n",
    "    return y_i\n",
    "\n",
    "def generate_data(m):\n",
    "    x = []\n",
    "    for i in range(m):\n",
    "        x.append(generate_vector(normalize=False))\n",
    "    x = np.array(x)\n",
    "    return x\n",
    "\n",
    "def new_data(m):\n",
    "    w = generate_vector(normalize=True) \n",
    "    x = generate_data(m)\n",
    "    y =[generate_label(i,w) for i in x ]\n",
    "    return w, x, y \n",
    "\n",
    "# w_ = generate_vector(normalize=True) \n",
    "# x_m = generate_data(10)\n",
    "# y_m = np.array([generate_label(i,w_) for i in x_m ])\n"
   ],
   "outputs": [],
   "metadata": {
    "colab": {},
    "colab_type": "code",
    "id": "AUHuXrsgSRJl"
   }
  },
  {
   "cell_type": "markdown",
   "source": [
    "## Algorithm 1: logistic regression\n",
    "\n",
    "The goal is to learn $w$.  Algorithm 1 is logistic\n",
    "  regression (you may use the built-in method LogisticRegression for this. Use max_iter=1000)."
   ],
   "metadata": {
    "colab_type": "text",
    "id": "wx2-15fASRJy"
   }
  },
  {
   "cell_type": "code",
   "execution_count": 85,
   "source": [
    "from sklearn.linear_model import LogisticRegression\n",
    "\n",
    "def algorithm1(X,Y):\n",
    "    clf = LogisticRegression(random_state=0, max_iter=1000).fit(X, Y)\n",
    "    w_prime = np.array(clf.coef_[0])\n",
    "    return w_prime"
   ],
   "outputs": [],
   "metadata": {
    "colab": {},
    "colab_type": "code",
    "id": "Vj8b21jgSRJz"
   }
  },
  {
   "cell_type": "markdown",
   "source": [
    "## Algorithm 2: gradient descent with square loss\n",
    "\n",
    "Define square loss as\n",
    "$$L_i(w^{(t)}) = \\frac{1}{2} \\left( \\sigma(w^{(t)} \\cdot x) - y_i \\right)^2$$\n",
    "\n",
    "  Algorithm 2 is\n",
    "  gradient descent with respect to square loss (code this\n",
    "  up yourself -- run for 1000 iterations, use step size eta = 0.01)."
   ],
   "metadata": {
    "colab_type": "text",
    "id": "YzmNdy6ZSRJ3"
   }
  },
  {
   "cell_type": "code",
   "execution_count": 86,
   "source": [
    "def loss_gradient(x,y,w):\n",
    "    sig = expit(np.dot(w,x))\n",
    "    return (sig - y)*sig*(1-sig)*x\n",
    "\n",
    "def gradient(x,y,w):\n",
    "    values = [loss_gradient(x[i],y[i],w) for i in range(len(x))]\n",
    "    return np.sum(values) / len(x)\n",
    "\n",
    "def algorithm2(x,y):\n",
    "    w_t = np.zeros(10)\n",
    "    for iterations in range(1000):\n",
    "        w_t -= 0.01*gradient(x,y,w_t)\n",
    "    return w_t"
   ],
   "outputs": [],
   "metadata": {}
  },
  {
   "cell_type": "markdown",
   "source": [
    "## Algorithm 3: stochastic gradient descent with square loss\n",
    "Similar to gradient descent, except we use the gradient at a single random training point every iteration."
   ],
   "metadata": {}
  },
  {
   "cell_type": "code",
   "execution_count": 87,
   "source": [
    "def stochastic_gradient(x,y,w):\n",
    "    random = np.random.randint(0,len(x))\n",
    "    return loss_gradient(x[random],y[random],w)\n",
    "\n",
    "def algorithm3(x,y):\n",
    "    w_t = np.zeros(10)\n",
    "    for iterations in range(1000):\n",
    "        w_t -= 0.01*stochastic_gradient(x,y,w_t)\n",
    "    return w_t"
   ],
   "outputs": [],
   "metadata": {}
  },
  {
   "cell_type": "markdown",
   "source": [
    "## Evaluation\n",
    "\n",
    "Measure error $\\|w - \\hat{w}\\|_2$ for each method at different sample size. For any\n",
    "  fixed value of $m$, choose many different $w$'s and average the\n",
    "  values $\\|w - \n",
    "  \\hat{w}\\|_2$ for Algorithms 1, 2 and 3.  Plot the results\n",
    "  for for each algorithm as you make $m$ large (use $m=50, 100, 150, 200, 250$).\n",
    "  Also record, for each algorithm, the time taken to run the overall experiment."
   ],
   "metadata": {
    "colab_type": "text",
    "id": "5A-dLi3TSRJ-"
   }
  },
  {
   "cell_type": "code",
   "execution_count": 88,
   "source": [
    "def experiment(m, algorithm,name):\n",
    "    start = time.time()\n",
    "    a = []\n",
    "    for i in range(10):\n",
    "        w_star, x , y = new_data(m)\n",
    "        w_new = algorithm(x,y)\n",
    "        w_sub = w_star-w_new\n",
    "        w_norm_diff = np.linalg.norm(w_sub)\n",
    "        a.append(w_norm_diff)\n",
    "    # print(name,'Sample number:',m, 'Experiment Time:', time.time()-start)\n",
    "    print(f\"{name:5} \\tSample Number: {m:4} \\tExperiment Time: {time.time()-start}\")\n",
    "    return np.average(a)\n",
    "\n",
    "a1_m = []\n",
    "a2_m = []\n",
    "a3_m = []\n",
    "M = [50,100,150,200,250]\n",
    "# for each size m perform experiment\n",
    "for m in M:\n",
    "\n",
    "    a1_m.append(experiment(m, algorithm1, 'Logistic Regression\\t'))\n",
    "    a2_m.append(experiment(m, algorithm2, 'Gradient Descent\\t'))\n",
    "    a3_m.append(experiment(m, algorithm3, 'Stochastic Gradient Decent'))\n",
    "    print()\n",
    "\n",
    "plt.figure()\n",
    "plt.plot(M, a1_m, label='Logistic Regression')\n",
    "plt.plot(M, a2_m, label='Gradient Descen')\n",
    "plt.plot(M, a3_m, label='Stochastic Gradient Decent')\n",
    "plt.legend()\n",
    "plt.show()\n"
   ],
   "outputs": [
    {
     "output_type": "stream",
     "name": "stdout",
     "text": [
      "Logistic Regression\t \tSample Number:   50 \tExperiment Time: 0.05373191833496094\n",
      "Gradient Descent\t \tSample Number:   50 \tExperiment Time: 3.4713828563690186\n",
      "Stochastic Gradient Decent \tSample Number:   50 \tExperiment Time: 0.11545610427856445\n",
      "\n",
      "Logistic Regression\t \tSample Number:  100 \tExperiment Time: 0.041483163833618164\n",
      "Gradient Descent\t \tSample Number:  100 \tExperiment Time: 5.839107990264893\n",
      "Stochastic Gradient Decent \tSample Number:  100 \tExperiment Time: 0.10812687873840332\n",
      "\n",
      "Logistic Regression\t \tSample Number:  150 \tExperiment Time: 0.035231828689575195\n",
      "Gradient Descent\t \tSample Number:  150 \tExperiment Time: 8.010719060897827\n",
      "Stochastic Gradient Decent \tSample Number:  150 \tExperiment Time: 0.11159682273864746\n",
      "\n",
      "Logistic Regression\t \tSample Number:  200 \tExperiment Time: 0.04029107093811035\n",
      "Gradient Descent\t \tSample Number:  200 \tExperiment Time: 9.899306774139404\n",
      "Stochastic Gradient Decent \tSample Number:  200 \tExperiment Time: 0.11911511421203613\n",
      "\n",
      "Logistic Regression\t \tSample Number:  250 \tExperiment Time: 0.04104185104370117\n",
      "Gradient Descent\t \tSample Number:  250 \tExperiment Time: 12.120371103286743\n",
      "Stochastic Gradient Decent \tSample Number:  250 \tExperiment Time: 0.12228918075561523\n",
      "\n"
     ]
    },
    {
     "output_type": "display_data",
     "data": {
      "image/png": "[encoded data removed]",
      "text/plain": [
       "<Figure size 432x288 with 1 Axes>"
      ]
     },
     "metadata": {
      "needs_background": "light"
     }
    }
   ],
   "metadata": {}
  },
  {
   "cell_type": "markdown",
   "source": [
    "# Problem 2"
   ],
   "metadata": {}
  },
  {
   "cell_type": "code",
   "execution_count": 89,
   "source": [
    "from sklearn.ensemble import AdaBoostClassifier\n",
    "from sklearn.tree import DecisionTreeClassifier\n",
    "from sklearn.datasets import make_classification\n",
    "from sklearn.model_selection import cross_val_score\n",
    "from sklearn.model_selection import KFold\n",
    "from sklearn import datasets"
   ],
   "outputs": [],
   "metadata": {}
  },
  {
   "cell_type": "code",
   "execution_count": 90,
   "source": [
    "cancer = datasets.load_breast_cancer()"
   ],
   "outputs": [],
   "metadata": {}
  },
  {
   "cell_type": "markdown",
   "source": [
    "For each depth in $1, \\dots, 5$, instantiate an AdaBoost classifier with the base learner set to be a decision tree of that depth (set `n_estimators=10` and `learning_rate=1`), and then record the 10-fold cross-validated error on the entire breast cancer data set. Plot the resulting curve of accuracy against base classifier depth. Use $101$ as your random state for both the base learner as well as the AdaBoost classifier every time."
   ],
   "metadata": {}
  },
  {
   "cell_type": "code",
   "execution_count": 91,
   "source": [
    "depths = [i for i in range (1,6)]\n",
    "X,y = cancer.data, cancer.target\n",
    "accuracy = []\n",
    "\n",
    "for depth in depths:\n",
    "    clf = AdaBoostClassifier(DecisionTreeClassifier(max_depth=depth), learning_rate=1)\n",
    "    \n",
    "    clf.fit(X, y)\n",
    "    scores = cross_val_score(clf, cancer.data, cancer.target, cv=KFold(n_splits=10, random_state=101, shuffle=True))\n",
    "    accuracy.append(scores.mean())"
   ],
   "outputs": [],
   "metadata": {}
  },
  {
   "cell_type": "code",
   "execution_count": 92,
   "source": [
    "plt.figure()\n",
    "plt.plot(n_estimators, accuracy, label='CV accuracy')\n",
    "plt.xlabel('max depth')\n",
    "plt.ylabel('accuracy')\n",
    "plt.legend(fontsize='large')\n",
    "plt.xticks(depths)\n",
    "plt.show()"
   ],
   "outputs": [
    {
     "output_type": "display_data",
     "data": {
      "image/png": "[encoded data removed]",
      "text/plain": [
       "<Figure size 432x288 with 1 Axes>"
      ]
     },
     "metadata": {
      "needs_background": "light"
     }
    }
   ],
   "metadata": {}
  }
 ],
 "metadata": {
  "colab": {
   "name": "hw2_programming_sol.ipynb",
   "provenance": [],
   "version": "0.3.2"
  },
  "kernelspec": {
   "name": "python3",
   "display_name": "Python 3.8.8 64-bit ('base': conda)"
  },
  "language_info": {
   "codemirror_mode": {
    "name": "ipython",
    "version": 3
   },
   "file_extension": ".py",
   "mimetype": "text/x-python",
   "name": "python",
   "nbconvert_exporter": "python",
   "pygments_lexer": "ipython3",
   "version": "3.8.8"
  },
  "interpreter": {
   "hash": "f106a20f20eac506582437e63b5f3e1299dc07823e738d9c61675db8acde4ec9"
  }
 },
 "nbformat": 4,
 "nbformat_minor": 1
}