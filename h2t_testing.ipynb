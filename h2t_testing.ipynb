{
 "cells": [
  {
   "cell_type": "code",
   "execution_count": 19,
   "source": [
    "import numpy as np\n",
    "v = []\n",
    "w = np.array([1,1])\n",
    "w2 = np.array([1,1])\n",
    "w3 = np.array([1,1])\n",
    "v.append(w)\n",
    "v.append(w2)\n",
    "v.append(w3)\n",
    "print(sum([i for i in v])/len(v))"
   ],
   "outputs": [
    {
     "output_type": "stream",
     "name": "stdout",
     "text": [
      "[1. 1.]\n"
     ]
    }
   ],
   "metadata": {}
  }
 ],
 "metadata": {
  "orig_nbformat": 4,
  "language_info": {
   "name": "python",
   "version": "3.8.8",
   "mimetype": "text/x-python",
   "codemirror_mode": {
    "name": "ipython",
    "version": 3
   },
   "pygments_lexer": "ipython3",
   "nbconvert_exporter": "python",
   "file_extension": ".py"
  },
  "kernelspec": {
   "name": "python3",
   "display_name": "Python 3.8.8 64-bit ('base': conda)"
  },
  "interpreter": {
   "hash": "f106a20f20eac506582437e63b5f3e1299dc07823e738d9c61675db8acde4ec9"
  }
 },
 "nbformat": 4,
 "nbformat_minor": 2
}